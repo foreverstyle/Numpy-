{
 "cells": [
  {
   "cell_type": "markdown",
   "metadata": {},
   "source": [
    "### 数据预处理\n",
    "\n",
    "在数据清理上，还有一个更好用的 Pandas 库，我们会在后期的教学当中，一步步深入到。\n",
    "\n",
    "可以看到不同的 array 创建方式，可能会有不同的 dtype，而之前的 data.dtype=object，说明Python list 直接转换过来的 data 是无法参与诸多 Numpy 计算的。 而只有 dtype 为 int，float 这样的数值形式，才能参与运算。\n",
    "\n",
    "那怎么办呢？我们怎么才能把那个又有 string，又有 None，还有数值的数据转换为 Numpy 能运算的数据呢？ 方法很简单，我们筛选过滤一下。"
   ]
  },
  {
   "cell_type": "code",
   "execution_count": 1,
   "metadata": {},
   "outputs": [
    {
     "name": "stdout",
     "output_type": "stream",
     "text": [
      "[['Name', 'StudentID', 'Age', 'AttendClass', 'Score'], ['小明', 20131, 10, 1, 67], ['小花', 20132, 11, 1, 88], ['小菜', 20133, None, 1, '98'], ['小七', 20134, 8, 1, 110], ['花菜', 20134, 98, 0, None], ['刘欣', 20136, 12, 0, 12]]\n"
     ]
    }
   ],
   "source": [
    "raw_data = [\n",
    "[\"Name\", \"StudentID\", \"Age\", \"AttendClass\", \"Score\"],\n",
    "[\"小明\", 20131, 10, 1, 67],\n",
    "[\"小花\", 20132, 11, 1, 88],\n",
    "[\"小菜\", 20133, None, 1, \"98\"],\n",
    "[\"小七\", 20134, 8, 1, 110],\n",
    "[\"花菜\", 20134, 98, 0, None],\n",
    "[\"刘欣\", 20136, 12, 0, 12]\n",
    "]\n",
    "print(raw_data)\n"
   ]
  },
  {
   "cell_type": "code",
   "execution_count": 2,
   "metadata": {},
   "outputs": [
    {
     "data": {
      "text/plain": [
       "array([['Name', 'StudentID', 'Age', 'AttendClass', 'Score'],\n",
       "       ['小明', 20131, 10, 1, 67],\n",
       "       ['小花', 20132, 11, 1, 88],\n",
       "       ['小菜', 20133, None, 1, '98'],\n",
       "       ['小七', 20134, 8, 1, 110],\n",
       "       ['花菜', 20134, 98, 0, None],\n",
       "       ['刘欣', 20136, 12, 0, 12]], dtype=object)"
      ]
     },
     "execution_count": 2,
     "metadata": {},
     "output_type": "execute_result"
    }
   ],
   "source": [
    "import numpy as np\n",
    "data = np.array(raw_data)\n",
    "data"
   ]
  },
  {
   "cell_type": "code",
   "execution_count": 3,
   "metadata": {},
   "outputs": [
    {
     "name": "stdout",
     "output_type": "stream",
     "text": [
      "data.dtype float64\n",
      "[[2.0131e+04 1.0000e+01 1.0000e+00 6.7000e+01]\n",
      " [2.0132e+04 1.1000e+01 1.0000e+00 8.8000e+01]\n",
      " [2.0133e+04        nan 1.0000e+00 9.8000e+01]\n",
      " [2.0134e+04 8.0000e+00 1.0000e+00 1.1000e+02]\n",
      " [2.0134e+04 9.8000e+01 0.0000e+00        nan]\n",
      " [2.0136e+04 1.2000e+01 0.0000e+00 1.2000e+01]]\n"
     ]
    }
   ],
   "source": [
    "# 通过循环的方法得到float类型再转化为numpy数组 不要直接转化为numpy数组\n",
    "data_process = []\n",
    "for i in range(len(raw_data)):\n",
    "    if i == 0:\n",
    "        continue    # 不要首行字符串\n",
    "    # 去掉首列名字\n",
    "    data_process.append(raw_data[i][1:])  \n",
    "    \n",
    "data_process\n",
    "data = np.array(data_process, dtype=np.float64)\n",
    "print(\"data.dtype\", data.dtype)\n",
    "print(data) "
   ]
  },
  {
   "cell_type": "markdown",
   "metadata": {},
   "source": [
    "### 清洗数据\n",
    "\n",
    "我们想要看看有没有什么数据是不合逻辑的"
   ]
  },
  {
   "cell_type": "code",
   "execution_count": 4,
   "metadata": {},
   "outputs": [
    {
     "name": "stdout",
     "output_type": "stream",
     "text": [
      "[1 1 1 2 1]\n",
      "[[2.0131e+04 1.0000e+01 1.0000e+00 6.7000e+01]\n",
      " [2.0132e+04 1.1000e+01 1.0000e+00 8.8000e+01]\n",
      " [2.0133e+04        nan 1.0000e+00 9.8000e+01]\n",
      " [2.0134e+04 8.0000e+00 1.0000e+00 1.1000e+02]\n",
      " [2.0135e+04 9.8000e+01 0.0000e+00        nan]\n",
      " [2.0136e+04 1.2000e+01 0.0000e+00 1.2000e+01]]\n"
     ]
    }
   ],
   "source": [
    "#我发现学号有重复，可能是在输入学生信息的时候手误输错了\n",
    "\n",
    "sid = data[:, 0]\n",
    "unique, counts = np.unique(sid, return_counts=True)\n",
    "\n",
    "#来查找数据中独一无二的数据的,返回的是一个数组，数组的第一个元素是独一无二的数据，第二个元素是每个独一无二的数据出现的次数\n",
    "\n",
    "print(counts)\n",
    "\n",
    "data[4, 0] = 20135 \n",
    "print(data)"
   ]
  },
  {
   "cell_type": "markdown",
   "metadata": {},
   "source": [
    "我们来看看第二列 Age 年龄。一眼可以发现，存在两个问题，有一个同学没有年龄。我们看看能不能用平均年龄补全这个缺失的信息"
   ]
  },
  {
   "cell_type": "code",
   "execution_count": 5,
   "metadata": {},
   "outputs": [
    {
     "name": "stdout",
     "output_type": "stream",
     "text": [
      "is_nan: [False False  True False False False]\n",
      "有数据的平均年龄： 27.8\n",
      "normal_age_mask: [ True  True False  True False  True]\n",
      "normal_age_mean: 10.25\n",
      "ages: [10.   11.   10.25  8.   10.25 12.  ]\n"
     ]
    }
   ],
   "source": [
    "is_nan = np.isnan(data[:,1])\n",
    "print(\"is_nan:\", is_nan)\n",
    "nan_idx = np.argwhere(is_nan)\n",
    "\n",
    "# 计算有数据的平均年龄，用 ~ 符号可以 True/False 对调\n",
    "mean_age = data[~np.isnan(data[:,1]), 1].mean()\n",
    "print(\"有数据的平均年龄：\", mean_age)\n",
    "\n",
    "# 所以我觉得我也得把这个 98 岁的当异常数据看待。（在你的项目中，你也要综合判断哪些是异常数据）\n",
    "\n",
    "# ~ 表示 True/False 对调，& 就是逐个做 Python and 的运算\n",
    "normal_age_mask = ~np.isnan(data[:,1]) & (data[:,1] < 20)\n",
    "print(\"normal_age_mask:\", normal_age_mask)\n",
    "\n",
    "normal_age_mean = data[normal_age_mask, 1].mean()\n",
    "print(\"normal_age_mean:\", normal_age_mean)\n",
    "\n",
    "data[~normal_age_mask, 1] = normal_age_mean\n",
    "print(\"ages:\", data[:, 1])"
   ]
  },
  {
   "cell_type": "markdown",
   "metadata": {},
   "source": [
    "因为没上课，就没成绩，但是倒数第一行，没上课，怎么还有成绩？还有倒数第三行，成绩居然超出了满分 100 分。这些情况都是我们要处理的情况"
   ]
  },
  {
   "cell_type": "code",
   "execution_count": 6,
   "metadata": {},
   "outputs": [
    {
     "name": "stdout",
     "output_type": "stream",
     "text": [
      "[[  1.  67.]\n",
      " [  1.  88.]\n",
      " [  1.  98.]\n",
      " [  1. 100.]\n",
      " [  0.  nan]\n",
      " [  0.  nan]]\n"
     ]
    }
   ],
   "source": [
    "# 没上课的转成 nan\n",
    "data[data[:,2] == 0, 3] = np.nan\n",
    "\n",
    "# 超过 100 分和低于 0 分的都处理一下\n",
    "data[:, 3] = np.clip(data[:, 3], 0, 100)   # 当你使用 == 操作符时，NumPy会自动处理类型转换，以便进行比较操作。\n",
    "\n",
    "print(data[:, 2:])"
   ]
  }
 ],
 "metadata": {
  "kernelspec": {
   "display_name": "Python 3",
   "language": "python",
   "name": "python3"
  },
  "language_info": {
   "codemirror_mode": {
    "name": "ipython",
    "version": 3
   },
   "file_extension": ".py",
   "mimetype": "text/x-python",
   "name": "python",
   "nbconvert_exporter": "python",
   "pygments_lexer": "ipython3",
   "version": "3.10.8"
  }
 },
 "nbformat": 4,
 "nbformat_minor": 2
}
