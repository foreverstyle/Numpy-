{
 "cells": [
  {
   "cell_type": "markdown",
   "metadata": {},
   "source": [
    "# 计算能力和多样的计算功能"
   ]
  },
  {
   "cell_type": "code",
   "execution_count": 1,
   "metadata": {},
   "outputs": [
    {
     "name": "stdout",
     "output_type": "stream",
     "text": [
      "[153, 169, 186, 173]\n",
      "[153 169 186 173]\n"
     ]
    }
   ],
   "source": [
    "# 使用map()\n",
    "l = [150, 166, 183, 170]\n",
    "print(list(map(lambda x: x+3 , l)))\n",
    "\n",
    "# 使用numpy\n",
    "import numpy as np\n",
    "l = np.array([150, 166, 183, 170])\n",
    "print(l+3)\n"
   ]
  },
  {
   "cell_type": "markdown",
   "metadata": {},
   "source": [
    "## 矩阵运算\n",
    "np.dot() 计算两个向量的点积；对于矩阵，它执行矩阵乘法\n",
    "\n",
    "np.outer() 矩阵外积，外积将两个向量的所有可能组合相乘，形成一个矩阵\n",
    "\n",
    "np.inner() 矩阵内积，对于 1D 向量，np.inner() 与 np.dot() 基本相同，计算两个向量的点积，但对于多维数组，会对每一行计算内积\n",
    "\n",
    "np.cross() 叉积是仅定义在三维空间中的操作，计算两个三维向量的向量积"
   ]
  },
  {
   "cell_type": "code",
   "execution_count": 2,
   "metadata": {},
   "outputs": [
    {
     "name": "stdout",
     "output_type": "stream",
     "text": [
      "点积 32\n",
      "矩阵乘法 [[19 22]\n",
      " [43 50]]\n",
      "矩阵外积 [[ 4  5  6]\n",
      " [ 8 10 12]\n",
      " [12 15 18]]\n",
      "矩阵内积 一维 32\n",
      "矩阵内积 多维 [[17 23]\n",
      " [39 53]]\n",
      "叉积 [-3  6 -3]\n"
     ]
    }
   ],
   "source": [
    "#np.dot() 一维点积\n",
    "a = np.array([1, 2, 3])\n",
    "b = np.array([4, 5, 6])\n",
    "result = np.dot(a, b)  # 1*4 + 2*5 + 3*6 = 32\n",
    "print(\"点积\",result)\n",
    "\n",
    "#np.dot() 二维矩阵相乘\n",
    "A = np.array([[1, 2], [3, 4]])\n",
    "B = np.array([[5, 6], [7, 8]])\n",
    "print(\"矩阵乘法\",np.dot(A, B))\n",
    "\n",
    "#np.outer()\n",
    "print(\"矩阵外积\",np.outer(a, b))\n",
    "\n",
    "#np.inner()\n",
    "print(\"矩阵内积 一维\",np.inner(a, b))\n",
    "print(\"矩阵内积 多维\",np.inner(A, B))\n",
    "\n",
    "#np.cross()\n",
    "print(\"叉积\",np.cross(a, b))\n"
   ]
  },
  {
   "cell_type": "markdown",
   "metadata": {},
   "source": [
    "## 数据统计分析\n",
    "\n",
    "np.max(), np.min()\n",
    "\n",
    "a.max(), a.min()\n",
    "\n",
    "a.prod() 或者 np.prod(a) 计算累乘\n",
    "\n",
    "np.mean() 计算均值\n",
    "\n",
    "np.median() 计算中位数\n",
    "\n",
    "np.std() 计算标准差\n"
   ]
  },
  {
   "cell_type": "code",
   "execution_count": 3,
   "metadata": {},
   "outputs": [
    {
     "name": "stdout",
     "output_type": "stream",
     "text": [
      "累乘： 774639000\n",
      "总数： 4\n",
      "非零总数： 3\n"
     ]
    }
   ],
   "source": [
    "a = np.array([150, 166, 183, 170])\n",
    "print(\"累乘：\", a.prod())\n",
    "print(\"总数：\", a.size)   \n",
    "                 \n",
    "a = np.array([0, 1, 2, 3])\n",
    "print(\"非零总数：\", np.count_nonzero(a))"
   ]
  },
  {
   "cell_type": "code",
   "execution_count": 4,
   "metadata": {},
   "outputs": [
    {
     "name": "stdout",
     "output_type": "stream",
     "text": [
      "平均工资： 4.82\n",
      "工资中位数： 1.2\n",
      "标准差： 7.61614075500184\n"
     ]
    }
   ],
   "source": [
    "month_salary = [1.2, 20, 0.5, 0.3, 2.1]\n",
    "print(\"平均工资：\", np.mean(month_salary))\n",
    "print(\"工资中位数：\", np.median(month_salary))\n",
    "print(\"标准差：\", np.std(month_salary))"
   ]
  },
  {
   "cell_type": "markdown",
   "metadata": {},
   "source": [
    "## 其他常用的计算函数\n",
    "np.argmax() 获取这个最大数值的序号\n",
    "\n",
    "np.argmin() 获取这个最大数值的序号\n",
    "\n",
    "np.ceil() 和 np.floor() 取整处理，抹除小数部分\n",
    "\n",
    "np.clip() 上下界限的值截取"
   ]
  },
  {
   "cell_type": "code",
   "execution_count": 5,
   "metadata": {},
   "outputs": [
    {
     "name": "stdout",
     "output_type": "stream",
     "text": [
      "Huawei 最高\n",
      "小米 最矮\n"
     ]
    }
   ],
   "source": [
    "a = np.array([150, 166, 183, 170])\n",
    "name = [\"小米\", \"OPPO\", \"Huawei\", \"诺基亚\"]\n",
    "high_idx = np.argmax(a)\n",
    "low_idx = np.argmin(a)\n",
    "print(\"{} 最高\".format(name[high_idx]))\n",
    "print(\"{} 最矮\".format(name[low_idx]))\n"
   ]
  },
  {
   "cell_type": "code",
   "execution_count": 6,
   "metadata": {},
   "outputs": [
    {
     "name": "stdout",
     "output_type": "stream",
     "text": [
      "ceil: [151. 167. 184. 171.]\n",
      "floor: [150. 166. 183. 170.]\n"
     ]
    }
   ],
   "source": [
    "a = np.array([150.1, 166.4, 183.7, 170.8])\n",
    "print(\"ceil:\", np.ceil(a))\n",
    "print(\"floor:\", np.floor(a))\n"
   ]
  },
  {
   "cell_type": "code",
   "execution_count": 7,
   "metadata": {},
   "outputs": [
    {
     "name": "stdout",
     "output_type": "stream",
     "text": [
      "clip: [160.  166.4 180.  170.8]\n"
     ]
    }
   ],
   "source": [
    "a = np.array([150.1, 166.4, 183.7, 170.8])\n",
    "print(\"clip:\", a.clip(160, 180))\n"
   ]
  }
 ],
 "metadata": {
  "kernelspec": {
   "display_name": "Python 3",
   "language": "python",
   "name": "python3"
  },
  "language_info": {
   "codemirror_mode": {
    "name": "ipython",
    "version": 3
   },
   "file_extension": ".py",
   "mimetype": "text/x-python",
   "name": "python",
   "nbconvert_exporter": "python",
   "pygments_lexer": "ipython3",
   "version": "3.10.8"
  }
 },
 "nbformat": 4,
 "nbformat_minor": 2
}
