{
 "cells": [
  {
   "cell_type": "markdown",
   "metadata": {},
   "source": [
    "# 创建数据\n",
    "\n",
    "numpy可以创建多维数据"
   ]
  },
  {
   "cell_type": "code",
   "execution_count": null,
   "metadata": {},
   "outputs": [],
   "source": [
    "import numpy as np\n",
    "\n",
    "# 创建一维数组\n",
    "cars = np.array([5,10,12,6])\n",
    "print(\"数据：\", cars, \"\\n维度:\", cars.ndim)\n",
    "\n",
    "# 创建多维数组\n",
    "cars = np.array([\n",
    "[5, 10, 12, 6],\n",
    "[5.1, 8.2, 11, 6.3],\n",
    "[4.4, 9.1, 10, 6.6]\n",
    "])\n",
    "\n",
    "print(\"数据：\\n\", cars, \"\\n维度:\", cars.ndim)   #np.ndim 来查看数据的形态\n"
   ]
  },
  {
   "cell_type": "markdown",
   "metadata": {},
   "source": [
    "# 添加数据\n",
    "\n",
    "concatenate()  # 连接数组\n",
    "\n",
    "stack()  # 堆叠数组\n",
    "\n",
    "split()  # 拆分数组\n",
    "\n",
    "expand_dims()  # 增加维度\n",
    "\n",
    "squeeze()  # 去除维度"
   ]
  },
  {
   "cell_type": "code",
   "execution_count": null,
   "metadata": {},
   "outputs": [],
   "source": [
    "#concatenate()   连接数组\n",
    "\n",
    "cars1 = np.array([5, 10, 12, 6])\n",
    "cars2 = np.array([5.2, 4.2])\n",
    "cars = np.concatenate([cars1, cars2])\n",
    "print(cars)\n",
    "\n",
    "\n",
    "#expand_dims()   增加维度\n",
    "test1 = np.array([5, 10, 12, 6])\n",
    "test2 = np.array([5.1, 8.2, 11, 6.3])\n",
    "\n",
    "# 首先需要把它们都变成二维，下面这两种方法都可以加维度\n",
    "test1 = np.expand_dims(test1, 0)\n",
    "test2 = test2[np.newaxis, :]\n",
    "\n",
    "print(\"test1加维度后 \", test1)\n",
    "print(\"test2加维度后 \", test2)\n",
    "\n",
    "# 然后再在第一个维度上叠加\n",
    "all_tests = np.concatenate([test1, test2])\n",
    "print(\"括展后\\n\", all_tests)\n",
    "\n",
    "print(\"第一维度叠加：\\n\", np.concatenate([all_tests, all_tests], axis=0))\n",
    "print(\"第二维度叠加：\\n\", np.concatenate([all_tests, all_tests], axis=1))"
   ]
  },
  {
   "cell_type": "markdown",
   "metadata": {},
   "source": [
    "# 合并数据\n",
    "\n",
    "vstack()  # 垂直方向合并\n",
    "\n",
    "hstack()  # 水平方向合并"
   ]
  },
  {
   "cell_type": "code",
   "execution_count": null,
   "metadata": {},
   "outputs": [],
   "source": [
    "a = np.array([\n",
    "[1,2],[3,4]\n",
    "])\n",
    "b = np.array([\n",
    "[5,6],[7,8]\n",
    "])\n",
    "print(\"竖直合并\\n\", np.vstack([a, b]))\n",
    "print(\"水平合并\\n\", np.hstack([a, b]))"
   ]
  },
  {
   "cell_type": "markdown",
   "metadata": {},
   "source": [
    "# 观察形态\n",
    "\n",
    "np.ndim() 用于查看数组的维度\n",
    "\n",
    "np.size()  用于查看数组的元素个数\n",
    "\n",
    "np.shape() 用于查看数组的形状\n",
    "\n",
    "np.reshape() 用于改变数组的形状\n",
    "\n",
    "np.dtype() 用于查看数组的数据类型"
   ]
  },
  {
   "cell_type": "code",
   "execution_count": null,
   "metadata": {},
   "outputs": [],
   "source": [
    "print(cars)\n",
    "print(\"总共多少测试数据：\", cars.size)\n",
    "\n",
    "print(all_tests)\n",
    "print(\"第一个维度：\", all_tests.shape[0])\n",
    "print(\"第二个维度：\", all_tests.shape[1])\n",
    "print(\"所有维度：\", all_tests.shape)\n",
    "print(all_tests.dtype)"
   ]
  },
  {
   "cell_type": "code",
   "execution_count": null,
   "metadata": {},
   "outputs": [],
   "source": [
    "a = np.array([1,2,3,4,5,6])\n",
    "a1 = a.reshape([2, 3])\n",
    "a2 = a.reshape([3,1,2])\n",
    "print(\"a1 shape:\", a1.shape)\n",
    "print(a1)\n",
    "print(\"a2 shape:\", a2.shape)\n",
    "print(a2)\n"
   ]
  }
 ],
 "metadata": {
  "kernelspec": {
   "display_name": "Python 3",
   "language": "python",
   "name": "python3"
  },
  "language_info": {
   "codemirror_mode": {
    "name": "ipython",
    "version": 3
   },
   "file_extension": ".py",
   "mimetype": "text/x-python",
   "name": "python",
   "nbconvert_exporter": "python",
   "pygments_lexer": "ipython3",
   "version": "3.10.8"
  }
 },
 "nbformat": 4,
 "nbformat_minor": 2
}
