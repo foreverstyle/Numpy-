{
 "cells": [
  {
   "cell_type": "markdown",
   "metadata": {},
   "source": [
    "# 标准数据生成\n",
    "\n",
    "怎么带着数值初始化，可以带着怎样的数值初始化"
   ]
  },
  {
   "cell_type": "markdown",
   "metadata": {},
   "source": [
    "### 创建统一数据\n",
    "\n",
    "np.zeros()  # 创建全0数组\n",
    "np.ones()   # 创建全1数组\n",
    "np.empty()  # 创建未初始化的数组\n",
    "np.arange()  # 创建等差数组\n",
    "np.linspace()  # 创建等间距数组\n",
    "np.random.rand()  # 创建随机数组\n",
    "np.full()    # 创建指定值数组"
   ]
  },
  {
   "cell_type": "code",
   "execution_count": 9,
   "metadata": {},
   "outputs": [
    {
     "name": "stdout",
     "output_type": "stream",
     "text": [
      "zeros:\n",
      " [[0. 0. 0.]\n",
      " [0. 0. 0.]]\n",
      "\n",
      "ones:\n",
      " [[1. 1.]\n",
      " [1. 1.]\n",
      " [1. 1.]]\n",
      "\n",
      "nines:\n",
      " [[9 9 9]\n",
      " [9 9 9]]\n",
      "\n",
      "identity:\n",
      " [[1. 0. 0.]\n",
      " [0. 1. 0.]\n",
      " [0. 0. 1.]]\n",
      "\n",
      "random:\n",
      " [[0.17613907 0.92357226 0.04016408]\n",
      " [0.58873357 0.21518226 0.27295933]]\n",
      "\n",
      "empty:\n",
      " [[0.17613907 0.92357226 0.04016408]\n",
      " [0.58873357 0.21518226 0.27295933]]\n"
     ]
    }
   ],
   "source": [
    "import numpy as np\n",
    "\n",
    "zeros = np.zeros([2, 3])\n",
    "print(\"zeros:\\n\", zeros)\n",
    "\n",
    "ones = np.ones([3, 2])\n",
    "print(\"\\nones:\\n\", ones)\n",
    "\n",
    "nines = np.full([2,3], 9)\n",
    "print(\"\\nnines:\\n\", nines)\n",
    "\n",
    "identity = np.identity(3)\n",
    "print(\"\\nidentity:\\n\", identity)\n",
    "\n",
    "random = np.random.rand(2, 3)\n",
    "print(\"\\nrandom:\\n\", random)\n",
    "\n",
    "empty = np.empty([2, 3])\n",
    "print(\"\\nempty:\\n\", empty)\n",
    "#注意，虽然乱乱的，但是它不是随机数哦，你不能把它当随机数使用\n",
    "# 首先，可以当成一个 placeholder，一个容器先放着，之后慢慢放数据\n",
    "# 创建起来比 ones, zeros, full 都快一点点"
   ]
  },
  {
   "cell_type": "code",
   "execution_count": 10,
   "metadata": {},
   "outputs": [
    {
     "name": "stdout",
     "output_type": "stream",
     "text": [
      "ones: (2, 3) int64\n",
      "ones_like: (2, 3) int64\n",
      "ones_like value:\n",
      " [[1 1 1]\n",
      " [1 1 1]]\n",
      "[[0 0 0]\n",
      " [0 0 0]]\n",
      "[[6 6 6]\n",
      " [6 6 6]]\n"
     ]
    }
   ],
   "source": [
    "data = np.array([\n",
    "[1,2,3],\n",
    "[4,5,6]\n",
    "], dtype=np.int64)\n",
    "\n",
    "ones = np.ones(data.shape, dtype=data.dtype)\n",
    "ones_like = np.ones_like(data)\n",
    "\n",
    "print(\"ones:\", ones.shape, ones.dtype)\n",
    "print(\"ones_like:\", ones_like.shape, ones_like.dtype)\n",
    "print(\"ones_like value:\\n\", ones_like)\n",
    "\n",
    "print(np.zeros_like(data))\n",
    "print(np.full_like(data, 6))\n"
   ]
  },
  {
   "cell_type": "markdown",
   "metadata": {},
   "source": [
    "### 创建规则数据\n",
    "\n",
    "np.arange()  # 等差数列\n",
    "np.linspace()  # 创建等间距数组\n",
    "np.random.rand()  # 随机数\n",
    "np.random.randn()  # 标准正态分布随机数\n",
    "np.random.randint()  # 随机整数"
   ]
  },
  {
   "cell_type": "code",
   "execution_count": 11,
   "metadata": {},
   "outputs": [
    {
     "name": "stdout",
     "output_type": "stream",
     "text": [
      "python range: [0, 1, 2, 3, 4]\n",
      "numpy arange: [0 1 2 3 4]\n",
      "python range: [3, 5, 7, 9]\n",
      "numpy arange: [3 5 7 9]\n",
      "linspace: [-1.  -0.5  0.   0.5  1. ]\n"
     ]
    }
   ],
   "source": [
    "print(\"python range:\", list(range(5)))  #列表\n",
    "print(\"numpy arange:\", np.arange(5))    #数组\n",
    "\n",
    "#同样，np.arange() 也可以像 range() 一样，对范围做自定义更变或跳跃取值。\n",
    "\n",
    "# (start, end, step) \n",
    "print(\"python range:\", list(range(3, 10, 2)))\n",
    "print(\"numpy arange:\", np.arange(3, 10, 2))\n",
    "\n",
    "# 在画折线图的时候，我想要连续在一个区间内取间隔一致的数据点\n",
    "# np.linspace()  # 创建等间距数组\n",
    "\n",
    "# (start, end, num)\n",
    "print(\"linspace:\", np.linspace(-1, 1, 5))\n"
   ]
  }
 ],
 "metadata": {
  "kernelspec": {
   "display_name": "Python 3",
   "language": "python",
   "name": "python3"
  },
  "language_info": {
   "codemirror_mode": {
    "name": "ipython",
    "version": 3
   },
   "file_extension": ".py",
   "mimetype": "text/x-python",
   "name": "python",
   "nbconvert_exporter": "python",
   "pygments_lexer": "ipython3",
   "version": "3.10.8"
  }
 },
 "nbformat": 4,
 "nbformat_minor": 2
}
