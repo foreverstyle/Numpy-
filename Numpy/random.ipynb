{
 "cells": [
  {
   "cell_type": "markdown",
   "metadata": {},
   "source": [
    "# 随机数和随机操作\n",
    "### 多种随机数生成\n",
    "\n",
    "np.random.rand() # 产生一个随机数，范围[0,1)\n",
    "\n",
    "np.random.random() # 产生一个随机数，范围[0,1)\n",
    "\n",
    "np.random.randn() # 产生一个服从正态分布的随机数\n",
    "\n",
    "np.random.randint(1,10) # 产生一个[1,10]范围内的整数\n"
   ]
  },
  {
   "cell_type": "code",
   "execution_count": 80,
   "metadata": {},
   "outputs": [
    {
     "name": "stdout",
     "output_type": "stream",
     "text": [
      "0.36935384522120185\n",
      "2\n"
     ]
    }
   ],
   "source": [
    "# 用 Python 自带的 random 来解决\n",
    "import random\n",
    "print(random.random())\n",
    "print(random.randint(1, 10))"
   ]
  },
  {
   "cell_type": "code",
   "execution_count": 81,
   "metadata": {},
   "outputs": [
    {
     "name": "stdout",
     "output_type": "stream",
     "text": [
      "[[0.93154087 0.94773061]\n",
      " [0.4847491  0.32053644]\n",
      " [0.15442667 0.69886269]]\n",
      "[[0.11995054 0.48517591]\n",
      " [0.63273773 0.81822672]\n",
      " [0.68302599 0.49856117]]\n"
     ]
    }
   ],
   "source": [
    "#  随机生成 [0, 1) 之间的数\n",
    "import numpy as np\n",
    "dim1, dim2 = 3, 2\n",
    "print(np.random.rand(dim1, dim2)) # 你还能继续添加 dim3 或更多\n",
    "# 实现同一个目的的还有这样一种写法，功能上没差别\n",
    "print(np.random.random([dim1, dim2]))"
   ]
  },
  {
   "cell_type": "code",
   "execution_count": 82,
   "metadata": {},
   "outputs": [
    {
     "name": "stdout",
     "output_type": "stream",
     "text": [
      "[[ 1.6105314   0.63611634]\n",
      " [ 0.31664063 -1.65491786]\n",
      " [-1.21179682 -0.347736  ]]\n"
     ]
    }
   ],
   "source": [
    "# 比如按照标准正态分布去生成\n",
    "print(np.random.randn(dim1, dim2))"
   ]
  },
  {
   "cell_type": "code",
   "execution_count": 83,
   "metadata": {},
   "outputs": [
    {
     "name": "stdout",
     "output_type": "stream",
     "text": [
      "[ 5  1  3  0 -1 -3  1 -1  1 -2]\n"
     ]
    }
   ],
   "source": [
    "# 生成随机整数\n",
    "print(np.random.randint(low=-3, high=6, size=10))"
   ]
  },
  {
   "cell_type": "markdown",
   "metadata": {},
   "source": [
    "### 给你施加随机\n",
    "\n",
    "np.random.choice() # 随机选择一个元素\n",
    "\n",
    "np.random.shuffle() # 随机打乱数组\n",
    "\n",
    "np.random.permutation() # 随机排列数组"
   ]
  },
  {
   "cell_type": "code",
   "execution_count": 84,
   "metadata": {},
   "outputs": [
    {
     "name": "stdout",
     "output_type": "stream",
     "text": [
      "选一个： 2\n",
      "选多个： [3 3 1]\n",
      "不重复地选多个(不放回)： [3 6 1]\n",
      "带权重地选择： [6 6 4 6 6 6 6 6 6 6]\n"
     ]
    }
   ],
   "source": [
    "data = np.array([2,1,3,4,6])\n",
    "print(\"选一个：\", np.random.choice(data))\n",
    "print(\"选多个：\", np.random.choice(data, size=3))\n",
    "print(\"不重复地选多个(不放回)：\", np.random.choice(data, size=3, replace=False))\n",
    "print(\"带权重地选择：\", np.random.choice(data, size=10, p=[0,0,0,0.2,0.8]))"
   ]
  },
  {
   "cell_type": "code",
   "execution_count": 85,
   "metadata": {},
   "outputs": [
    {
     "name": "stdout",
     "output_type": "stream",
     "text": [
      "源数据： [2 1 3 4 6]\n",
      "shuffled: [4 1 6 3 2]\n"
     ]
    }
   ],
   "source": [
    "# 在机器学习中，你也许会经常在 epoch 迭代训练数据的时候，碰到 shuffle 的概念\n",
    "# np.random.shuffle() 的功能，就是用来洗牌的。 注意，它会将源数据洗牌重新排列，如果你想保留源数据的话，记得 np.copy(data) 备份一下\n",
    "data = np.array([2,1,3,4,6])\n",
    "data_copy = np.copy(data)\n",
    "np.random.shuffle(data)\n",
    "print(\"源数据：\", data_copy)\n",
    "print(\"shuffled:\", data)"
   ]
  },
  {
   "cell_type": "code",
   "execution_count": 86,
   "metadata": {},
   "outputs": [
    {
     "name": "stdout",
     "output_type": "stream",
     "text": [
      "直接出乱序序列： [8 4 1 2 0 3 7 9 5 6]\n",
      "原数据： [[ 0  1]\n",
      " [ 2  3]\n",
      " [ 4  5]\n",
      " [ 6  7]\n",
      " [ 8  9]\n",
      " [10 11]]\n",
      "多维数据在第一维度上乱序： [[10 11]\n",
      " [ 6  7]\n",
      " [ 4  5]\n",
      " [ 8  9]\n",
      " [ 2  3]\n",
      " [ 0  1]]\n"
     ]
    }
   ],
   "source": [
    "# np.random.shuffle() 的一种特殊形式。可以说是一种简单处理特殊情况的功能。 它有两个方便之处，1. 直接生成乱序的序列号，2. 对数据乱序。\n",
    "\n",
    "# permutation 有一个好处，就是可以返回一个新数据，对原本的数据没有影响。而且还可以处理多维数据。\n",
    "\n",
    "print(\"直接出乱序序列：\", np.random.permutation(10))\n",
    "data = np.arange(12).reshape([6,2])\n",
    "print(\"原数据：\", data)\n",
    "print(\"多维数据在第一维度上乱序：\", np.random.permutation(data))\n"
   ]
  },
  {
   "cell_type": "markdown",
   "metadata": {},
   "source": [
    "### 随机分布\n",
    "\n",
    "生成数据的时候，有时需要按照特定的统计学分布来生成\n",
    "\n",
    "np.random.normal()  # 正态分布\n",
    "\n",
    "np.random.uniform()  # 均匀分布\n",
    "\n",
    "np.random.binomial()  # 二项分布\n",
    "\n",
    "np.random.poisson()  # 泊松分布\n",
    "\n",
    "np.random.exponential()  # 指数分布\n",
    "\n",
    "np.random.gamma()  # 伽玛分布\n",
    "\n",
    "np.random.weibull()  # 韦伯分布\n"
   ]
  },
  {
   "cell_type": "code",
   "execution_count": 87,
   "metadata": {},
   "outputs": [
    {
     "name": "stdout",
     "output_type": "stream",
     "text": [
      "正态分布： [0.91245114 1.31538993 1.38069827 1.00567585 0.96566803 1.37363806\n",
      " 0.98321345 1.10445177 1.22430232 0.8483193 ]\n",
      "\n",
      "均匀分布: [ 0.86525713  0.42243449  0.03486153  0.7689432   0.10726768  0.14728499\n",
      " -0.21213341  0.8530935  -0.98891116  0.45699699]\n",
      "\n",
      "指数分布: [0.43967406 0.2394422  0.44945996 2.10619864 0.45149736 0.69958168\n",
      " 1.45881456 2.45895322 1.7508172  0.5305972 ]\n",
      "\n",
      "对数正态分布: [2.03236838 3.45796614 2.95480318 2.66087841 2.93064462 2.78473833\n",
      " 2.40832376 3.11354    2.84957824 3.29822428]\n",
      "\n",
      "超几何分布: [1 3 3 1 1 1 0 3 2 2]\n",
      "\n",
      "泊松分布: [0 0 2 1 0 1 0 1 0 0]\n",
      "\n",
      "伯努利分布: [7 6 2 6 4 6 5 2 2 7]\n",
      "\n",
      "卡方分布: [0.30511435 2.03754553 0.37627104 0.26270721 0.47055431 1.4620712\n",
      " 1.33858366 2.4063172  1.04599639 3.06750891]\n"
     ]
    }
   ],
   "source": [
    "# (均值，方差，size)\n",
    "print(\"正态分布：\", np.random.normal(1, 0.2, 10))\n",
    "\n",
    "# (最低，最高，size)\n",
    "print(\"\\n均匀分布:\", np.random.uniform(-1, 1, 10))\n",
    "\n",
    "# (最低，最高，size)\n",
    "print(\"\\n指数分布:\", np.random.exponential(1, 10))\n",
    "\n",
    "# (最低，最高，size)\n",
    "print(\"\\n对数正态分布:\", np.random.lognormal(1, 0.2, 10))\n",
    "\n",
    "\n",
    "# (最低，最高，size)\n",
    "print(\"\\n超几何分布:\", np.random.hypergeometric(10, 5, 3, 10))\n",
    "\n",
    "# (最低，最高，size)\n",
    "print(\"\\n泊松分布:\", np.random.poisson(1, 10))\n",
    "\n",
    "# (最低，最高，size)\n",
    "print(\"\\n伯努利分布:\", np.random.binomial(10, 0.5, 10))\n",
    "\n",
    "# (最低，最高，size)\n",
    "print(\"\\n卡方分布:\", np.random.chisquare(1, 10))\n",
    "\n"
   ]
  },
  {
   "cell_type": "markdown",
   "metadata": {},
   "source": [
    "### 随机种子的重要性\n",
    "\n",
    "在机器学习中，我们要对比两种随机初始化模型的优劣，或者在强化学习中要固定随机环境的随机序列，用于复现当前配置的情况，我们通常要做的事情就是伪随机\n",
    "简单说，就是每次都是一组随机，但是我可以后续再完整运行一遍一模一样的随机效果。比如生成两遍一模一样的随机序列。\n",
    "\n",
    "为了达到这个目的，我们要了解 Numpy 中的 random seed 概念，随机种子。当我们把种子固定的时候（用一个数字），同一个种子（数字）产生的随机序列就会一样。"
   ]
  },
  {
   "cell_type": "code",
   "execution_count": 88,
   "metadata": {},
   "outputs": [
    {
     "name": "stdout",
     "output_type": "stream",
     "text": [
      "[7 5 6]\n",
      "[2 9 7]\n"
     ]
    }
   ],
   "source": [
    "# seed(1) 代表的就是 1 号随机序列\n",
    "np.random.seed(1)\n",
    "print(np.random.randint(2, 10, size=3))\n",
    "\n",
    "# 无论你运行多少次上门的代码，你看到的随机结果，都是同一种结果。当你想改变随机种子的时候，可以在 seed() 中传入不同的数字。\n",
    "np.random.seed(2)\n",
    "print(np.random.randint(2, 10, size=3))\n"
   ]
  }
 ],
 "metadata": {
  "kernelspec": {
   "display_name": "Python 3",
   "language": "python",
   "name": "python3"
  },
  "language_info": {
   "codemirror_mode": {
    "name": "ipython",
    "version": 3
   },
   "file_extension": ".py",
   "mimetype": "text/x-python",
   "name": "python",
   "nbconvert_exporter": "python",
   "pygments_lexer": "ipython3",
   "version": "3.10.8"
  }
 },
 "nbformat": 4,
 "nbformat_minor": 2
}
