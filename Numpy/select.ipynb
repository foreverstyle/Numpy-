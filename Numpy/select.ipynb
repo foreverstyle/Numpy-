{
 "cells": [
  {
   "cell_type": "markdown",
   "metadata": {},
   "source": [
    "# 挑选出符合你要求的数据\n",
    "```\n",
    "数组的索引从0开始，可以用方括号[]来访问元素。\n",
    "第一个数据是[0][0]\n",
    "```\n"
   ]
  },
  {
   "cell_type": "code",
   "execution_count": null,
   "metadata": {},
   "outputs": [],
   "source": [
    "import numpy as np\n",
    "\n",
    "a = np.array([1, 2, 3])\n",
    "print(\"a[0]:\", a[0])\n",
    "print(\"a[1]:\", a[1])"
   ]
  },
  {
   "cell_type": "code",
   "execution_count": null,
   "metadata": {},
   "outputs": [],
   "source": [
    "b = np.array([[1,2,3,4],[5,6,7,8],[9,10,11,12]])\n",
    "\n",
    "# 选第 2 行所有数\n",
    "print(\"b[1]:\", b[1])   \n",
    "\n",
    "# 选第 2 行，第 1 列的数\n",
    "print(\"b[1,0]:\", b[1,0])   \n",
    "\n",
    "# 这个看着有点纠结，如果对应到数据，\n",
    "# 第一个拿的是数据位是 [1,2]\n",
    "# 第二个拿的是 [0,3]\n",
    "print(\"b[[1,0],[2,3]]:\", b[[1,0],[2,3]])    # 选第 2 行的第 3 列，和第 1 行的第 4 列\n",
    "print(\"b[np.ix_([1, 0], [2, 3])]:\", b[np.ix_([1, 0], [2, 3])]) # 选第 2 行和第 1 行 的 第 3 列和第 4 列"
   ]
  },
  {
   "cell_type": "markdown",
   "metadata": {},
   "source": [
    "## 切片划分"
   ]
  },
  {
   "cell_type": "code",
   "execution_count": null,
   "metadata": {},
   "outputs": [],
   "source": [
    "a = np.array([1, 2, 3])\n",
    "print(\"a[0:2]:\", a[0:2])    # [1 2]不包括最右端的元素\n",
    "print(\"a[1:]:\", a[1:])\n",
    "print(\"a[1:]:\", a[1:-1])\n",
    "print(\"a[-2:]:\", a[-2:])"
   ]
  },
  {
   "cell_type": "code",
   "execution_count": 12,
   "metadata": {},
   "outputs": [
    {
     "name": "stdout",
     "output_type": "stream",
     "text": [
      "b[:2]: [[1 2 3 4]\n",
      " [5 6 7 8]]\n",
      "b[:2, :3]: [[1 2 3]\n",
      " [5 6 7]]\n",
      "b[1:3, -2:]: [[ 7  8]\n",
      " [11 12]]\n"
     ]
    }
   ],
   "source": [
    "b = np.array([[1,2,3,4],[5,6,7,8],[9,10,11,12]])\n",
    "\n",
    "print(\"b[:2]:\", b[:2])\n",
    "print(\"b[:2, :3]:\", b[:2, :3])\n",
    "print(\"b[1:3, -2:]:\", b[1:3, -2:])"
   ]
  },
  {
   "cell_type": "markdown",
   "metadata": {},
   "source": [
    "## 条件筛选\n",
    "where()函数可以根据条件筛选数组中的元素。\n"
   ]
  },
  {
   "cell_type": "code",
   "execution_count": 15,
   "metadata": {},
   "outputs": [
    {
     "name": "stdout",
     "output_type": "stream",
     "text": [
      "[[False False False False]\n",
      " [False False False  True]\n",
      " [ True  True  True  True]]\n",
      "[ 8  9 10 11 12]\n",
      "[[ 1  2  3  4]\n",
      " [ 5  6  7 -1]\n",
      " [-1 -1 -1 -1]]\n"
     ]
    }
   ],
   "source": [
    "a = np.array([[1,2,3,4],[5,6,7,8],[9,10,11,12]])\n",
    "\n",
    "condition = a > 7\n",
    "print(condition)\n",
    "print(a[condition])\n",
    "#或者写成 print(a[a > 7])\n",
    "\n",
    "#下面满足条件的，都改成 -1，不满足的，都还是 a 里面的数字。\n",
    "condition = a > 7\n",
    "print(np.where(condition, -1, a)) # a也可以改成其他数据\n"
   ]
  }
 ],
 "metadata": {
  "kernelspec": {
   "display_name": "Python 3",
   "language": "python",
   "name": "python3"
  },
  "language_info": {
   "codemirror_mode": {
    "name": "ipython",
    "version": 3
   },
   "file_extension": ".py",
   "mimetype": "text/x-python",
   "name": "python",
   "nbconvert_exporter": "python",
   "pygments_lexer": "ipython3",
   "version": "3.10.8"
  }
 },
 "nbformat": 4,
 "nbformat_minor": 2
}
